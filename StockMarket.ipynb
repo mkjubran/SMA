{
  "nbformat": 4,
  "nbformat_minor": 0,
  "metadata": {
    "colab": {
      "provenance": [],
      "authorship_tag": "ABX9TyM0Kov233LkDi1j9NCtVUO5",
      "include_colab_link": true
    },
    "kernelspec": {
      "name": "python3",
      "display_name": "Python 3"
    },
    "language_info": {
      "name": "python"
    }
  },
  "cells": [
    {
      "cell_type": "markdown",
      "metadata": {
        "id": "view-in-github",
        "colab_type": "text"
      },
      "source": [
        "<a href=\"https://colab.research.google.com/github/mkjubran/SMA/blob/main/StockMarket.ipynb\" target=\"_parent\"><img src=\"https://colab.research.google.com/assets/colab-badge.svg\" alt=\"Open In Colab\"/></a>"
      ]
    },
    {
      "cell_type": "markdown",
      "source": [
        "Notebook to extract financial data from yahoo"
      ],
      "metadata": {
        "id": "qc1sJNzcX9SX"
      }
    },
    {
      "cell_type": "markdown",
      "source": [
        "Installing Required Libraries"
      ],
      "metadata": {
        "id": "Tl8NhqoWYRqL"
      }
    },
    {
      "cell_type": "code",
      "execution_count": null,
      "metadata": {
        "colab": {
          "base_uri": "https://localhost:8080/"
        },
        "id": "wOjgYZqwX63d",
        "outputId": "892ef310-9776-43d6-e289-f25c88dea4ed"
      },
      "outputs": [
        {
          "output_type": "stream",
          "name": "stdout",
          "text": [
            "Looking in indexes: https://pypi.org/simple, https://us-python.pkg.dev/colab-wheels/public/simple/\n",
            "Requirement already satisfied: yfinance in /usr/local/lib/python3.10/dist-packages (0.2.18)\n",
            "Requirement already satisfied: pandas>=1.3.0 in /usr/local/lib/python3.10/dist-packages (from yfinance) (1.5.3)\n",
            "Requirement already satisfied: numpy>=1.16.5 in /usr/local/lib/python3.10/dist-packages (from yfinance) (1.22.4)\n",
            "Requirement already satisfied: requests>=2.26 in /usr/local/lib/python3.10/dist-packages (from yfinance) (2.27.1)\n",
            "Requirement already satisfied: multitasking>=0.0.7 in /usr/local/lib/python3.10/dist-packages (from yfinance) (0.0.11)\n",
            "Requirement already satisfied: lxml>=4.9.1 in /usr/local/lib/python3.10/dist-packages (from yfinance) (4.9.2)\n",
            "Requirement already satisfied: appdirs>=1.4.4 in /usr/local/lib/python3.10/dist-packages (from yfinance) (1.4.4)\n",
            "Requirement already satisfied: pytz>=2022.5 in /usr/local/lib/python3.10/dist-packages (from yfinance) (2022.7.1)\n",
            "Requirement already satisfied: frozendict>=2.3.4 in /usr/local/lib/python3.10/dist-packages (from yfinance) (2.3.7)\n",
            "Requirement already satisfied: cryptography>=3.3.2 in /usr/local/lib/python3.10/dist-packages (from yfinance) (40.0.2)\n",
            "Requirement already satisfied: beautifulsoup4>=4.11.1 in /usr/local/lib/python3.10/dist-packages (from yfinance) (4.11.2)\n",
            "Requirement already satisfied: html5lib>=1.1 in /usr/local/lib/python3.10/dist-packages (from yfinance) (1.1)\n",
            "Requirement already satisfied: soupsieve>1.2 in /usr/local/lib/python3.10/dist-packages (from beautifulsoup4>=4.11.1->yfinance) (2.4.1)\n",
            "Requirement already satisfied: cffi>=1.12 in /usr/local/lib/python3.10/dist-packages (from cryptography>=3.3.2->yfinance) (1.15.1)\n",
            "Requirement already satisfied: six>=1.9 in /usr/local/lib/python3.10/dist-packages (from html5lib>=1.1->yfinance) (1.16.0)\n",
            "Requirement already satisfied: webencodings in /usr/local/lib/python3.10/dist-packages (from html5lib>=1.1->yfinance) (0.5.1)\n",
            "Requirement already satisfied: python-dateutil>=2.8.1 in /usr/local/lib/python3.10/dist-packages (from pandas>=1.3.0->yfinance) (2.8.2)\n",
            "Requirement already satisfied: urllib3<1.27,>=1.21.1 in /usr/local/lib/python3.10/dist-packages (from requests>=2.26->yfinance) (1.26.15)\n",
            "Requirement already satisfied: certifi>=2017.4.17 in /usr/local/lib/python3.10/dist-packages (from requests>=2.26->yfinance) (2022.12.7)\n",
            "Requirement already satisfied: charset-normalizer~=2.0.0 in /usr/local/lib/python3.10/dist-packages (from requests>=2.26->yfinance) (2.0.12)\n",
            "Requirement already satisfied: idna<4,>=2.5 in /usr/local/lib/python3.10/dist-packages (from requests>=2.26->yfinance) (3.4)\n",
            "Requirement already satisfied: pycparser in /usr/local/lib/python3.10/dist-packages (from cffi>=1.12->cryptography>=3.3.2->yfinance) (2.21)\n"
          ]
        }
      ],
      "source": [
        "!pip install yfinance"
      ]
    },
    {
      "cell_type": "markdown",
      "source": [
        "Get Current Stock Price Data"
      ],
      "metadata": {
        "id": "-v9XtCurYUdv"
      }
    },
    {
      "cell_type": "code",
      "source": [
        "import yfinance as yf\n",
        "ticker = yf.Ticker('GOOGL').info\n",
        "market_price = ticker['currentPrice']\n",
        "previous_close_price = ticker['regularMarketPreviousClose']\n",
        "print('Ticker: GOOGL')\n",
        "print('Market Price:', market_price)\n",
        "print('Previous Close Price:', previous_close_price)"
      ],
      "metadata": {
        "colab": {
          "base_uri": "https://localhost:8080/"
        },
        "id": "IKVRngX_YN7d",
        "outputId": "9d25fdbe-a3b6-48b1-ff31-da30f25b7e60"
      },
      "execution_count": null,
      "outputs": [
        {
          "output_type": "stream",
          "name": "stdout",
          "text": [
            "Ticker: GOOGL\n",
            "Market Price: 122.23\n",
            "Previous Close Price: 122.14\n"
          ]
        }
      ]
    },
    {
      "cell_type": "markdown",
      "source": [
        "More info about the ticker"
      ],
      "metadata": {
        "id": "C540LSfHYhji"
      }
    },
    {
      "cell_type": "code",
      "source": [
        "import yfinance as yf\n",
        "ticker = yf.Ticker('GOOGL').info\n",
        "print(ticker.keys())"
      ],
      "metadata": {
        "colab": {
          "base_uri": "https://localhost:8080/"
        },
        "id": "MGXsI2gEYkmZ",
        "outputId": "672c75c5-eec3-46e9-946a-cdfeeb112ec9"
      },
      "execution_count": null,
      "outputs": [
        {
          "output_type": "stream",
          "name": "stdout",
          "text": [
            "dict_keys(['address1', 'city', 'state', 'zip', 'country', 'phone', 'website', 'industry', 'industryDisp', 'sector', 'longBusinessSummary', 'fullTimeEmployees', 'companyOfficers', 'auditRisk', 'boardRisk', 'compensationRisk', 'shareHolderRightsRisk', 'overallRisk', 'governanceEpochDate', 'compensationAsOfEpochDate', 'maxAge', 'priceHint', 'previousClose', 'open', 'dayLow', 'dayHigh', 'regularMarketPreviousClose', 'regularMarketOpen', 'regularMarketDayLow', 'regularMarketDayHigh', 'payoutRatio', 'beta', 'trailingPE', 'forwardPE', 'volume', 'regularMarketVolume', 'averageVolume', 'averageVolume10days', 'averageDailyVolume10Day', 'bid', 'ask', 'bidSize', 'askSize', 'marketCap', 'fiftyTwoWeekLow', 'fiftyTwoWeekHigh', 'priceToSalesTrailing12Months', 'fiftyDayAverage', 'twoHundredDayAverage', 'trailingAnnualDividendRate', 'trailingAnnualDividendYield', 'currency', 'enterpriseValue', 'profitMargins', 'floatShares', 'sharesOutstanding', 'sharesShort', 'sharesShortPriorMonth', 'sharesShortPreviousMonthDate', 'dateShortInterest', 'sharesPercentSharesOut', 'heldPercentInsiders', 'heldPercentInstitutions', 'shortRatio', 'shortPercentOfFloat', 'impliedSharesOutstanding', 'bookValue', 'priceToBook', 'lastFiscalYearEnd', 'nextFiscalYearEnd', 'mostRecentQuarter', 'earningsQuarterlyGrowth', 'netIncomeToCommon', 'trailingEps', 'forwardEps', 'pegRatio', 'lastSplitFactor', 'lastSplitDate', 'enterpriseToRevenue', 'enterpriseToEbitda', '52WeekChange', 'SandP52WeekChange', 'exchange', 'quoteType', 'symbol', 'underlyingSymbol', 'shortName', 'longName', 'firstTradeDateEpochUtc', 'timeZoneFullName', 'timeZoneShortName', 'uuid', 'messageBoardId', 'gmtOffSetMilliseconds', 'currentPrice', 'targetHighPrice', 'targetLowPrice', 'targetMeanPrice', 'targetMedianPrice', 'recommendationMean', 'recommendationKey', 'numberOfAnalystOpinions', 'totalCash', 'totalCashPerShare', 'ebitda', 'totalDebt', 'quickRatio', 'currentRatio', 'totalRevenue', 'debtToEquity', 'revenuePerShare', 'returnOnAssets', 'returnOnEquity', 'grossProfits', 'freeCashflow', 'operatingCashflow', 'earningsGrowth', 'revenueGrowth', 'grossMargins', 'ebitdaMargins', 'operatingMargins', 'financialCurrency', 'trailingPegRatio'])\n"
          ]
        }
      ]
    },
    {
      "cell_type": "markdown",
      "source": [
        "Get Historical Stock Price Data"
      ],
      "metadata": {
        "id": "tpqvb_NAZYQ1"
      }
    },
    {
      "cell_type": "code",
      "source": [
        "# Importing the yfinance package\n",
        "import yfinance as yf\n",
        " \n",
        "# Set the start and end date\n",
        "start_date = '2020-01-01'\n",
        "end_date = '2022-01-01'\n",
        " \n",
        "# Set the ticker\n",
        "ticker = 'GOOGL'\n",
        " \n",
        "# Get the data\n",
        "data = yf.download(ticker, start_date, end_date)\n",
        " \n",
        "# Print the last 5 rows\n",
        "print(data.tail())"
      ],
      "metadata": {
        "colab": {
          "base_uri": "https://localhost:8080/"
        },
        "id": "Z_PN1TTDZY0l",
        "outputId": "c1017a15-633a-426c-f419-3fd538438e0f"
      },
      "execution_count": null,
      "outputs": [
        {
          "output_type": "stream",
          "name": "stdout",
          "text": [
            "\r[*********************100%***********************]  1 of 1 completed\n",
            "                  Open        High         Low       Close   Adj Close  \\\n",
            "Date                                                                     \n",
            "2021-12-27  147.255997  148.343994  147.169495  147.906494  147.906494   \n",
            "2021-12-28  148.235992  148.298996  146.054504  146.686996  146.686996   \n",
            "2021-12-29  146.644501  147.417007  145.647507  146.654999  146.654999   \n",
            "2021-12-30  146.694000  147.300003  145.994507  146.200500  146.200500   \n",
            "2021-12-31  146.050003  146.698502  144.852005  144.852005  144.852005   \n",
            "\n",
            "              Volume  \n",
            "Date                  \n",
            "2021-12-27  15976000  \n",
            "2021-12-28  18200000  \n",
            "2021-12-29  17788000  \n",
            "2021-12-30  15688000  \n",
            "2021-12-31  18136000  \n"
          ]
        }
      ]
    },
    {
      "cell_type": "markdown",
      "source": [
        "more frequent data, shorter period"
      ],
      "metadata": {
        "id": "ff1hcIVLcr_L"
      }
    },
    {
      "cell_type": "code",
      "source": [
        "import yfinance as yf\n",
        "start_date = '2023-06-03'\n",
        "end_date = '2023-06-10'\n",
        "ticker = 'GOOGL'\n",
        "data = yf.download(ticker, start_date, end_date ,interval=\"1m\")\n",
        "data[\"Date\"] = data.index\n",
        " \n",
        "data = data[[\"Date\", \"Open\", \"High\",\n",
        "             \"Low\", \"Close\", \"Adj Close\", \"Volume\"]]\n",
        " \n",
        "data.reset_index(drop=True, inplace=True)\n",
        "print(data.head())"
      ],
      "metadata": {
        "colab": {
          "base_uri": "https://localhost:8080/"
        },
        "id": "ikbWKJzscwy-",
        "outputId": "abc74c1c-a6fd-48eb-8788-9fb9b62d7a2b"
      },
      "execution_count": null,
      "outputs": [
        {
          "output_type": "stream",
          "name": "stdout",
          "text": [
            "\r[*********************100%***********************]  1 of 1 completed\n",
            "                       Date        Open        High         Low       Close  \\\n",
            "0 2023-06-05 09:30:00-04:00  124.010002  125.080002  123.839996  124.899902   \n",
            "1 2023-06-05 09:31:00-04:00  124.849998  124.930000  124.260002  124.550003   \n",
            "2 2023-06-05 09:32:00-04:00  124.570000  124.844002  124.440002  124.529999   \n",
            "3 2023-06-05 09:33:00-04:00  124.544998  124.820000  124.500000  124.565002   \n",
            "4 2023-06-05 09:34:00-04:00  124.570000  124.629997  124.363602  124.570000   \n",
            "\n",
            "    Adj Close  Volume  \n",
            "0  124.899902  924702  \n",
            "1  124.550003   73561  \n",
            "2  124.529999   83386  \n",
            "3  124.565002   53314  \n",
            "4  124.570000   66355  \n"
          ]
        }
      ]
    },
    {
      "cell_type": "code",
      "source": [
        "import matplotlib.pyplot as plt\n",
        "plt.plot(data['Date'],data['Close'])"
      ],
      "metadata": {
        "colab": {
          "base_uri": "https://localhost:8080/",
          "height": 448
        },
        "id": "K-5ajvuIdIzT",
        "outputId": "110b0827-90c2-420d-a6ff-15452e7ae620"
      },
      "execution_count": null,
      "outputs": [
        {
          "output_type": "execute_result",
          "data": {
            "text/plain": [
              "[<matplotlib.lines.Line2D at 0x7feb30595900>]"
            ]
          },
          "metadata": {},
          "execution_count": 37
        },
        {
          "output_type": "display_data",
          "data": {
            "text/plain": [
              "<Figure size 640x480 with 1 Axes>"
            ],
            "image/png": "[encoded data removed]"
          },
          "metadata": {}
        }
      ]
    },
    {
      "cell_type": "markdown",
      "source": [
        "If you want to pull data of multiple tickers at once, you can do so by providing the tickers in the form of a space-separated string."
      ],
      "metadata": {
        "id": "53K0si6ZZjcf"
      }
    },
    {
      "cell_type": "code",
      "source": [
        "import yfinance as yf\n",
        "start_date = '2020-01-01'\n",
        "end_date = '2022-01-01'\n",
        " \n",
        "# Add multiple space separated tickers here\n",
        "ticker = 'GOOGL MSFT TSLA'\n",
        "data = yf.download(ticker, start_date, end_date)\n",
        "print(data.tail())"
      ],
      "metadata": {
        "colab": {
          "base_uri": "https://localhost:8080/"
        },
        "id": "s6voKU3XZnZ5",
        "outputId": "846ba7de-b5c4-48da-d5c2-39ba8ecc8eeb"
      },
      "execution_count": null,
      "outputs": [
        {
          "output_type": "stream",
          "name": "stdout",
          "text": [
            "[*********************100%***********************]  3 of 3 completed\n",
            "             Adj Close                               Close              \\\n",
            "                 GOOGL        MSFT        TSLA       GOOGL        MSFT   \n",
            "Date                                                                     \n",
            "2021-12-27  147.906494  337.685120  364.646667  147.906494  342.450012   \n",
            "2021-12-28  146.686996  336.501801  362.823334  146.686996  341.250000   \n",
            "2021-12-29  146.654999  337.192108  362.063324  146.654999  341.950012   \n",
            "2021-12-30  146.200500  334.598663  356.779999  146.200500  339.320007   \n",
            "2021-12-31  144.852005  331.640442  352.260010  144.852005  336.320007   \n",
            "\n",
            "                              High                                 Low  \\\n",
            "                  TSLA       GOOGL        MSFT        TSLA       GOOGL   \n",
            "Date                                                                     \n",
            "2021-12-27  364.646667  148.343994  342.480011  372.333344  147.169495   \n",
            "2021-12-28  362.823334  148.298996  343.809998  373.000000  146.054504   \n",
            "2021-12-29  362.063324  147.417007  344.299988  368.000000  145.647507   \n",
            "2021-12-30  356.779999  147.300003  343.130005  365.183319  145.994507   \n",
            "2021-12-31  352.260010  146.698502  339.359985  360.666656  144.852005   \n",
            "\n",
            "                                          Open                          \\\n",
            "                  MSFT        TSLA       GOOGL        MSFT        TSLA   \n",
            "Date                                                                     \n",
            "2021-12-27  335.429993  356.906677  147.255997  335.459991  357.890015   \n",
            "2021-12-28  340.320007  359.473328  148.235992  343.149994  369.829987   \n",
            "2021-12-29  339.679993  354.713318  146.644501  341.299988  366.213318   \n",
            "2021-12-30  338.820007  351.049988  146.694000  341.910004  353.776672   \n",
            "2021-12-31  335.850006  351.529999  146.050003  338.510010  357.813324   \n",
            "\n",
            "              Volume                      \n",
            "               GOOGL      MSFT      TSLA  \n",
            "Date                                      \n",
            "2021-12-27  15976000  19947000  71145900  \n",
            "2021-12-28  18200000  15661500  60324000  \n",
            "2021-12-29  17788000  15042000  56154000  \n",
            "2021-12-30  15688000  15994500  47040900  \n",
            "2021-12-31  18136000  18000800  40733700  \n"
          ]
        }
      ]
    },
    {
      "cell_type": "markdown",
      "source": [
        "Transforming Data for Analysis"
      ],
      "metadata": {
        "id": "09uL8xCrZuu0"
      }
    },
    {
      "cell_type": "code",
      "source": [
        "import yfinance as yf\n",
        "start_date = '2023-06-03'\n",
        "end_date = '2023-06-10'\n",
        "ticker = 'GOOGL'\n",
        "data = yf.download(ticker, start_date, end_date ,interval=\"1m\")\n",
        "data[\"Date\"] = data.index\n",
        " \n",
        "data = data[[\"Date\", \"Open\", \"High\",\n",
        "             \"Low\", \"Close\", \"Adj Close\", \"Volume\"]]\n",
        " \n",
        "data.reset_index(drop=True, inplace=True)\n",
        "print(data.head())"
      ],
      "metadata": {
        "colab": {
          "base_uri": "https://localhost:8080/"
        },
        "id": "ha_hJvrXZvQK",
        "outputId": "ea4938c9-18d4-41bf-9b5b-aee07e691793"
      },
      "execution_count": null,
      "outputs": [
        {
          "output_type": "stream",
          "name": "stdout",
          "text": [
            "\r[*********************100%***********************]  1 of 1 completed\n",
            "                       Date        Open        High         Low       Close  \\\n",
            "0 2023-06-05 09:30:00-04:00  124.010002  125.080002  123.839996  124.899902   \n",
            "1 2023-06-05 09:31:00-04:00  124.849998  124.930000  124.260002  124.550003   \n",
            "2 2023-06-05 09:32:00-04:00  124.570000  124.844002  124.440002  124.529999   \n",
            "3 2023-06-05 09:33:00-04:00  124.544998  124.820000  124.500000  124.565002   \n",
            "4 2023-06-05 09:34:00-04:00  124.570000  124.629997  124.363602  124.570000   \n",
            "\n",
            "    Adj Close  Volume  \n",
            "0  124.899902  924702  \n",
            "1  124.550003   73561  \n",
            "2  124.529999   83386  \n",
            "3  124.565002   53314  \n",
            "4  124.570000   66355  \n"
          ]
        }
      ]
    },
    {
      "cell_type": "code",
      "source": [],
      "metadata": {
        "id": "6V_WY7KQcOJs"
      },
      "execution_count": null,
      "outputs": []
    },
    {
      "cell_type": "code",
      "source": [
        "import yfinance as yf\n",
        "from datetime import datetime\n",
        "\n",
        "gold = yf.download(tickers=\"GC=F\", period=\"5d\", interval=\"1m\")\n",
        "gold\n",
        "#start = datetime(2021, 10, 18, 9, 30, 0)\n",
        "#end = datetime(2021, 10, 18, 10, 30, 0)\n",
        "\n",
        "#filtered = gold[start: end]"
      ],
      "metadata": {
        "colab": {
          "base_uri": "https://localhost:8080/",
          "height": 473
        },
        "id": "ND3T2vdSbkh_",
        "outputId": "23bf8110-7e89-46ad-b235-776faf7b033c"
      },
      "execution_count": null,
      "outputs": [
        {
          "output_type": "stream",
          "name": "stdout",
          "text": [
            "\r[*********************100%***********************]  1 of 1 completed\n"
          ]
        },
        {
          "output_type": "execute_result",
          "data": {
            "text/plain": [
              "                                  Open         High          Low        Close  \\\n",
              "Datetime                                                                        \n",
              "2023-06-06 00:00:00-04:00  1975.000000  1975.400024  1975.000000  1975.099976   \n",
              "2023-06-06 00:01:00-04:00  1975.199951  1975.300049  1975.099976  1975.199951   \n",
              "2023-06-06 00:02:00-04:00  1975.099976  1975.099976  1974.900024  1975.000000   \n",
              "2023-06-06 00:03:00-04:00  1975.000000  1975.300049  1975.000000  1975.300049   \n",
              "2023-06-06 00:04:00-04:00  1975.300049  1975.300049  1975.300049  1975.300049   \n",
              "...                                ...          ...          ...          ...   \n",
              "2023-06-09 16:55:00-04:00  1975.300049  1975.500000  1975.199951  1975.500000   \n",
              "2023-06-09 16:56:00-04:00  1975.500000  1975.500000  1975.300049  1975.300049   \n",
              "2023-06-09 16:57:00-04:00  1975.199951  1975.500000  1975.199951  1975.400024   \n",
              "2023-06-09 16:58:00-04:00  1975.300049  1975.699951  1975.300049  1975.500000   \n",
              "2023-06-09 16:59:00-04:00  1975.599976  1976.099976  1975.500000  1975.699951   \n",
              "\n",
              "                             Adj Close  Volume  \n",
              "Datetime                                        \n",
              "2023-06-06 00:00:00-04:00  1975.099976       0  \n",
              "2023-06-06 00:01:00-04:00  1975.199951      11  \n",
              "2023-06-06 00:02:00-04:00  1975.000000      29  \n",
              "2023-06-06 00:03:00-04:00  1975.300049      17  \n",
              "2023-06-06 00:04:00-04:00  1975.300049       2  \n",
              "...                                ...     ...  \n",
              "2023-06-09 16:55:00-04:00  1975.500000      28  \n",
              "2023-06-09 16:56:00-04:00  1975.300049      15  \n",
              "2023-06-09 16:57:00-04:00  1975.400024      79  \n",
              "2023-06-09 16:58:00-04:00  1975.500000      21  \n",
              "2023-06-09 16:59:00-04:00  1975.699951      61  \n",
              "\n",
              "[5103 rows x 6 columns]"
            ],
            "text/html": [
              "\n",
              "  <div id=\"df-0cbe4099-ede9-4755-a5d5-e80331f0f6b3\">\n",
              "    <div class=\"colab-df-container\">\n",
              "      <div>\n",
              "<style scoped>\n",
              "    .dataframe tbody tr th:only-of-type {\n",
              "        vertical-align: middle;\n",
              "    }\n",
              "\n",
              "    .dataframe tbody tr th {\n",
              "        vertical-align: top;\n",
              "    }\n",
              "\n",
              "    .dataframe thead th {\n",
              "        text-align: right;\n",
              "    }\n",
              "</style>\n",
              "<table border=\"1\" class=\"dataframe\">\n",
              "  <thead>\n",
              "    <tr style=\"text-align: right;\">\n",
              "      <th></th>\n",
              "      <th>Open</th>\n",
              "      <th>High</th>\n",
              "      <th>Low</th>\n",
              "      <th>Close</th>\n",
              "      <th>Adj Close</th>\n",
              "      <th>Volume</th>\n",
              "    </tr>\n",
              "    <tr>\n",
              "      <th>Datetime</th>\n",
              "      <th></th>\n",
              "      <th></th>\n",
              "      <th></th>\n",
              "      <th></th>\n",
              "      <th></th>\n",
              "      <th></th>\n",
              "    </tr>\n",
              "  </thead>\n",
              "  <tbody>\n",
              "    <tr>\n",
              "      <th>2023-06-06 00:00:00-04:00</th>\n",
              "      <td>1975.000000</td>\n",
              "      <td>1975.400024</td>\n",
              "      <td>1975.000000</td>\n",
              "      <td>1975.099976</td>\n",
              "      <td>1975.099976</td>\n",
              "      <td>0</td>\n",
              "    </tr>\n",
              "    <tr>\n",
              "      <th>2023-06-06 00:01:00-04:00</th>\n",
              "      <td>1975.199951</td>\n",
              "      <td>1975.300049</td>\n",
              "      <td>1975.099976</td>\n",
              "      <td>1975.199951</td>\n",
              "      <td>1975.199951</td>\n",
              "      <td>11</td>\n",
              "    </tr>\n",
              "    <tr>\n",
              "      <th>2023-06-06 00:02:00-04:00</th>\n",
              "      <td>1975.099976</td>\n",
              "      <td>1975.099976</td>\n",
              "      <td>1974.900024</td>\n",
              "      <td>1975.000000</td>\n",
              "      <td>1975.000000</td>\n",
              "      <td>29</td>\n",
              "    </tr>\n",
              "    <tr>\n",
              "      <th>2023-06-06 00:03:00-04:00</th>\n",
              "      <td>1975.000000</td>\n",
              "      <td>1975.300049</td>\n",
              "      <td>1975.000000</td>\n",
              "      <td>1975.300049</td>\n",
              "      <td>1975.300049</td>\n",
              "      <td>17</td>\n",
              "    </tr>\n",
              "    <tr>\n",
              "      <th>2023-06-06 00:04:00-04:00</th>\n",
              "      <td>1975.300049</td>\n",
              "      <td>1975.300049</td>\n",
              "      <td>1975.300049</td>\n",
              "      <td>1975.300049</td>\n",
              "      <td>1975.300049</td>\n",
              "      <td>2</td>\n",
              "    </tr>\n",
              "    <tr>\n",
              "      <th>...</th>\n",
              "      <td>...</td>\n",
              "      <td>...</td>\n",
              "      <td>...</td>\n",
              "      <td>...</td>\n",
              "      <td>...</td>\n",
              "      <td>...</td>\n",
              "    </tr>\n",
              "    <tr>\n",
              "      <th>2023-06-09 16:55:00-04:00</th>\n",
              "      <td>1975.300049</td>\n",
              "      <td>1975.500000</td>\n",
              "      <td>1975.199951</td>\n",
              "      <td>1975.500000</td>\n",
              "      <td>1975.500000</td>\n",
              "      <td>28</td>\n",
              "    </tr>\n",
              "    <tr>\n",
              "      <th>2023-06-09 16:56:00-04:00</th>\n",
              "      <td>1975.500000</td>\n",
              "      <td>1975.500000</td>\n",
              "      <td>1975.300049</td>\n",
              "      <td>1975.300049</td>\n",
              "      <td>1975.300049</td>\n",
              "      <td>15</td>\n",
              "    </tr>\n",
              "    <tr>\n",
              "      <th>2023-06-09 16:57:00-04:00</th>\n",
              "      <td>1975.199951</td>\n",
              "      <td>1975.500000</td>\n",
              "      <td>1975.199951</td>\n",
              "      <td>1975.400024</td>\n",
              "      <td>1975.400024</td>\n",
              "      <td>79</td>\n",
              "    </tr>\n",
              "    <tr>\n",
              "      <th>2023-06-09 16:58:00-04:00</th>\n",
              "      <td>1975.300049</td>\n",
              "      <td>1975.699951</td>\n",
              "      <td>1975.300049</td>\n",
              "      <td>1975.500000</td>\n",
              "      <td>1975.500000</td>\n",
              "      <td>21</td>\n",
              "    </tr>\n",
              "    <tr>\n",
              "      <th>2023-06-09 16:59:00-04:00</th>\n",
              "      <td>1975.599976</td>\n",
              "      <td>1976.099976</td>\n",
              "      <td>1975.500000</td>\n",
              "      <td>1975.699951</td>\n",
              "      <td>1975.699951</td>\n",
              "      <td>61</td>\n",
              "    </tr>\n",
              "  </tbody>\n",
              "</table>\n",
              "<p>5103 rows × 6 columns</p>\n",
              "</div>\n",
              "      <button class=\"colab-df-convert\" onclick=\"convertToInteractive('df-0cbe4099-ede9-4755-a5d5-e80331f0f6b3')\"\n",
              "              title=\"Convert this dataframe to an interactive table.\"\n",
              "              style=\"display:none;\">\n",
              "        \n",
              "  <svg xmlns=\"http://www.w3.org/2000/svg\" height=\"24px\"viewBox=\"0 0 24 24\"\n",
              "       width=\"24px\">\n",
              "    <path d=\"M0 0h24v24H0V0z\" fill=\"none\"/>\n",
              "    <path d=\"M18.56 5.44l.94 2.06.94-2.06 2.06-.94-2.06-.94-.94-2.06-.94 2.06-2.06.94zm-11 1L8.5 8.5l.94-2.06 2.06-.94-2.06-.94L8.5 2.5l-.94 2.06-2.06.94zm10 10l.94 2.06.94-2.06 2.06-.94-2.06-.94-.94-2.06-.94 2.06-2.06.94z\"/><path d=\"M17.41 7.96l-1.37-1.37c-.4-.4-.92-.59-1.43-.59-.52 0-1.04.2-1.43.59L10.3 9.45l-7.72 7.72c-.78.78-.78 2.05 0 2.83L4 21.41c.39.39.9.59 1.41.59.51 0 1.02-.2 1.41-.59l7.78-7.78 2.81-2.81c.8-.78.8-2.07 0-2.86zM5.41 20L4 18.59l7.72-7.72 1.47 1.35L5.41 20z\"/>\n",
              "  </svg>\n",
              "      </button>\n",
              "      \n",
              "  <style>\n",
              "    .colab-df-container {\n",
              "      display:flex;\n",
              "      flex-wrap:wrap;\n",
              "      gap: 12px;\n",
              "    }\n",
              "\n",
              "    .colab-df-convert {\n",
              "      background-color: #E8F0FE;\n",
              "      border: none;\n",
              "      border-radius: 50%;\n",
              "      cursor: pointer;\n",
              "      display: none;\n",
              "      fill: #1967D2;\n",
              "      height: 32px;\n",
              "      padding: 0 0 0 0;\n",
              "      width: 32px;\n",
              "    }\n",
              "\n",
              "    .colab-df-convert:hover {\n",
              "      background-color: #E2EBFA;\n",
              "      box-shadow: 0px 1px 2px rgba(60, 64, 67, 0.3), 0px 1px 3px 1px rgba(60, 64, 67, 0.15);\n",
              "      fill: #174EA6;\n",
              "    }\n",
              "\n",
              "    [theme=dark] .colab-df-convert {\n",
              "      background-color: #3B4455;\n",
              "      fill: #D2E3FC;\n",
              "    }\n",
              "\n",
              "    [theme=dark] .colab-df-convert:hover {\n",
              "      background-color: #434B5C;\n",
              "      box-shadow: 0px 1px 3px 1px rgba(0, 0, 0, 0.15);\n",
              "      filter: drop-shadow(0px 1px 2px rgba(0, 0, 0, 0.3));\n",
              "      fill: #FFFFFF;\n",
              "    }\n",
              "  </style>\n",
              "\n",
              "      <script>\n",
              "        const buttonEl =\n",
              "          document.querySelector('#df-0cbe4099-ede9-4755-a5d5-e80331f0f6b3 button.colab-df-convert');\n",
              "        buttonEl.style.display =\n",
              "          google.colab.kernel.accessAllowed ? 'block' : 'none';\n",
              "\n",
              "        async function convertToInteractive(key) {\n",
              "          const element = document.querySelector('#df-0cbe4099-ede9-4755-a5d5-e80331f0f6b3');\n",
              "          const dataTable =\n",
              "            await google.colab.kernel.invokeFunction('convertToInteractive',\n",
              "                                                     [key], {});\n",
              "          if (!dataTable) return;\n",
              "\n",
              "          const docLinkHtml = 'Like what you see? Visit the ' +\n",
              "            '<a target=\"_blank\" href=https://colab.research.google.com/notebooks/data_table.ipynb>data table notebook</a>'\n",
              "            + ' to learn more about interactive tables.';\n",
              "          element.innerHTML = '';\n",
              "          dataTable['output_type'] = 'display_data';\n",
              "          await google.colab.output.renderOutput(dataTable, element);\n",
              "          const docLink = document.createElement('div');\n",
              "          docLink.innerHTML = docLinkHtml;\n",
              "          element.appendChild(docLink);\n",
              "        }\n",
              "      </script>\n",
              "    </div>\n",
              "  </div>\n",
              "  "
            ]
          },
          "metadata": {},
          "execution_count": 14
        }
      ]
    }
  ]
}